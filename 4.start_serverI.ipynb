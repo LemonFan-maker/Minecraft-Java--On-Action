{
 "cells": [
  {
   "cell_type": "code",
   "execution_count": null,
   "metadata": {},
   "outputs": [],
   "source": [
    "import json\n",
    "import os\n",
    "\n",
    "%cd \"/home/runner/work/Minecraft-Java-On-Action/Minecraft-Java-On-Action/Minecraft-Server/\"\n",
    "if os.path.isfile(\"githubconfig.json\"):\n",
    "  colabconfig = json.load(open(\"githubconfig.json\"))\n",
    "else:\n",
    "  colabconfig = {\"server_type\": \"generic\"} # using default, if config doesn't exists.\n",
    "  json.dump(colabconfig, open(\"githubconfig.json\",'w'))\n",
    "\n",
    "# Server jar names.\n",
    "jar_list = {'paper': 'server.jar', 'fabric': 'fabric-server-launch.jar', 'generic': 'server.jar'}\n",
    "jar_name = jar_list[colabconfig[\"server_type\"]]\n",
    "\n",
    "# Java arguments.\n",
    "if colabconfig[\"server_type\"] == \"paper\":\n",
    "  server_flags = \"-XX:+UseG1GC -XX:+ParallelRefProcEnabled -XX:MaxGCPauseMillis=200 -XX:+UnlockExperimentalVMOptions -XX:+DisableExplicitGC -XX:+AlwaysPreTouch -XX:G1NewSizePercent=30 -XX:G1MaxNewSizePercent=40 -XX:G1HeapRegionSize=8M -XX:G1ReservePercent=20 -XX:G1HeapWastePercent=5 -XX:G1MixedGCCountTarget=4 -XX:InitiatingHeapOccupancyPercent=15 -XX:G1MixedGCLiveThresholdPercent=90 -XX:G1RSetUpdatingPauseTimePercent=5 -XX:SurvivorRatio=32 -XX:+PerfDisableSharedMem -XX:MaxTenuringThreshold=1 -Dusing.aikars.flags=https://mcflags.emc.gs -Daikars.new.flags=true\"\n",
    "else:\n",
    "  server_flags = \"\" # aiker's flags might negatively impact performance on non-paper servers.\n",
    "memory_allocation = \"-Xmx5000M -Xms5000M\"\n",
    "print('Starting server...')\n",
    "!java $memory_allocation $server_flags -jar $jar_name nogui"
   ]
  }
 ],
 "metadata": {
  "language_info": {
   "name": "python"
  },
  "orig_nbformat": 4
 },
 "nbformat": 4,
 "nbformat_minor": 2
}
