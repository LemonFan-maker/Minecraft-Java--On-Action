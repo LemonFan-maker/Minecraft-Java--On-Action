{
 "cells": [
  {
   "cell_type": "code",
   "execution_count": null,
   "metadata": {},
   "outputs": [],
   "source": [
    "%cd \"/home/runner/work/Minecraft-Java-On-Action/Minecraft-Java-On-Action/Minecraft-Server/\"\n",
    "!sed -i '$d' eula.txt\n",
    "!echo \"eula=true\" >> eula.txt\n",
    "!cat eula.txt"
   ]
  }
 ],
 "metadata": {
  "language_info": {
   "name": "python"
  },
  "orig_nbformat": 4
 },
 "nbformat": 4,
 "nbformat_minor": 2
}
