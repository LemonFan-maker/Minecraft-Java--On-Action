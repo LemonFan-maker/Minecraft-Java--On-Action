{
 "cells": [
  {
   "cell_type": "code",
   "execution_count": null,
   "metadata": {},
   "outputs": [],
   "source": [
    "!pip install requests\n",
    "java_ver = !java -version 2>&1 | awk -F[\\\"\\.] -v OFS=. 'NR==1{print $2}'\n",
    "if java_ver[0] == \"17\" :\n",
    "  print(\"Openjdk17运行正常.\")\n",
    "else:\n",
    "  print(\"Openjdk17似乎没有被安装,或者没有正常工作.返回一个Java版本\", java_ver[0], \". 可能会降低运行的性能 Minecraft 1.17 或者更高版本的 Minecraft 可能会运行失败.\")"
   ]
  }
 ],
 "metadata": {
  "language_info": {
   "name": "python"
  },
  "orig_nbformat": 4
 },
 "nbformat": 4,
 "nbformat_minor": 2
}
