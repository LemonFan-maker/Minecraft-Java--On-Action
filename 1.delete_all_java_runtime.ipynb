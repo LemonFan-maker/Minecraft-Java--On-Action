{
 "cells": [
  {
   "cell_type": "code",
   "execution_count": null,
   "metadata": {},
   "outputs": [],
   "source": [
    "!java -version\n",
    "#!sudo apt-cache search java | awk '{print($1)}' | grep -E -e '^(ia32-)?(sun|oracle)-java' -e '^openjdk-' -e '^icedtea' -e '^(default|gcj)-j(re|dk)' -e '^gcj-(.*)-j(re|dk)' -e 'java-common' | xargs sudo apt-get -y remove\n",
    "#!sudo apt-get -y autoremove\n",
    "#!sudo dpkg -l | grep ^rc | awk '{print($2)}' | xargs sudo apt-get -y purge\n",
    "#!sudo bash -c 'ls -d /home/*/.java' | xargs sudo rm -rf\n",
    "#!sudo rm -rf /usr/lib/jvm/*\n",
    "# Install OpenJDK 17\n",
    "#!sudo apt update &>/dev/null && echo \"apt cache 成功更新.\" || echo \"apt cache更新失败,您可能会受到没有更新的安装包文件.\"\n",
    "#!wget -qO - https://adoptopenjdk.jfrog.io/adoptopenjdk/api/gpg/key/public | sudo apt-key add -\n",
    "#!sudo add-apt-repository --yes https://adoptopenjdk.jfrog.io/adoptopenjdk/deb/ &>/dev/null || echo \"Failed to add repo. Still can be ignored if openjdk17 gets installed.\"\n",
    "!sudo apt-get install openjdk-17-jre-headless\n",
    "print(\"安装第一遍--成功!\")\n",
    "!java -version\n",
    "!sudo apt-get update\n",
    "!sudo apt-get install openjdk-17-jre-headless\n",
    "!java -version"
   ]
  }
 ],
 "metadata": {
  "language_info": {
   "name": "python"
  },
  "orig_nbformat": 4
 },
 "nbformat": 4,
 "nbformat_minor": 2
}
